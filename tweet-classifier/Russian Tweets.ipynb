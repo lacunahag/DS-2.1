{
 "cells": [
  {
   "cell_type": "code",
   "execution_count": 225,
   "metadata": {},
   "outputs": [],
   "source": [
    "import pandas as pd"
   ]
  },
  {
   "cell_type": "markdown",
   "metadata": {},
   "source": [
    "# Strategy\n",
    "* Figure out what hastags these accounts use\n",
    "* look at timestamps to see if they're all doing stuff around the same time\n",
    "* look at if they're automating stuff\n",
    "\n",
    "# What they do\n",
    "* Spam cannon: spam out content in specific hashtags\n",
    "* flood individuals: follow them, unfollow, and targeting them with tweets\n",
    "* networking: actually befriending people and talking to them about their ideas\n",
    "\n",
    "# Resources\n",
    "* [these folks](chrome-extension://oemmndcbldboiebfnladdacbdfmadadm/https://arxiv.org/pdf/1805.10244.pdf) figured out how to detect bots based on how often they retweet each other vs humans\n",
    "* Since we're not actually looking at bots, this technique may or may not work\n",
    "* This paper is also iffy for a few reasons: they use a weird physics model, their data is hand-labeled, and they don't define 'bot'.\n",
    "\n",
    "* [this paper](chrome-extension://oemmndcbldboiebfnladdacbdfmadadm/http://www.people.vcu.edu/~cfung/bib/compromised_accounts_detection-ndss13.pdf) looks more reputable on first glance and is cited by the first paper. Their algorithm is called botOrNot and it' more general: for detecting spammers, hacked account and anomalous behavior.\n",
    "\n",
    "# TODO:\n",
    "* scrap legitimate tweets that were made around the same time"
   ]
  },
  {
   "cell_type": "code",
   "execution_count": 176,
   "metadata": {},
   "outputs": [],
   "source": [
    "# df =  pd.read_csv(\"data/russia_201901_1_tweets_csv_hashed.csv\")\n",
    "\n",
    "# generate this with bash commands:\n",
    "# cat ira_tweets_csv_hashed.csv | head -n 1 > random_tweets.csv # gets the labels\n",
    "# shuf -n 1000 ira_tweets_csv_hashed.csv >> random_tweets.csv\n",
    "df = pd.read_csv(\"data/random_tweets.csv\")"
   ]
  },
  {
   "cell_type": "code",
   "execution_count": 177,
   "metadata": {},
   "outputs": [
    {
     "data": {
      "text/plain": [
       "Index(['tweetid', 'userid', 'user_display_name', 'user_screen_name',\n",
       "       'user_reported_location', 'user_profile_description',\n",
       "       'user_profile_url', 'follower_count', 'following_count',\n",
       "       'account_creation_date', 'account_language', 'tweet_language',\n",
       "       'tweet_text', 'tweet_time', 'tweet_client_name', 'in_reply_to_tweetid',\n",
       "       'in_reply_to_userid', 'quoted_tweet_tweetid', 'is_retweet',\n",
       "       'retweet_userid', 'retweet_tweetid', 'latitude', 'longitude',\n",
       "       'quote_count', 'reply_count', 'like_count', 'retweet_count', 'hashtags',\n",
       "       'urls', 'user_mentions', 'poll_choices'],\n",
       "      dtype='object')"
      ]
     },
     "execution_count": 177,
     "metadata": {},
     "output_type": "execute_result"
    }
   ],
   "source": [
    "df.keys()"
   ]
  },
  {
   "cell_type": "code",
   "execution_count": 178,
   "metadata": {},
   "outputs": [],
   "source": [
    "import re \n",
    "\n",
    "def has_cyrillic(text):\n",
    "    return bool(re.search('[а-яА-Я]', text))"
   ]
  },
  {
   "cell_type": "code",
   "execution_count": 179,
   "metadata": {},
   "outputs": [
    {
     "data": {
      "text/plain": [
       "'Grandparents Killed In N.J. Crash While Returning From Easter Egg Hunt  #news'"
      ]
     },
     "execution_count": 179,
     "metadata": {},
     "output_type": "execute_result"
    }
   ],
   "source": [
    "tweets = pd.Series([tweet for tweet in df[\"tweet_text\"] if not has_cyrillic(tweet)])\n",
    "# users = set(users)\n",
    "tweets[:100][91]"
   ]
  },
  {
   "cell_type": "code",
   "execution_count": 180,
   "metadata": {},
   "outputs": [],
   "source": [
    "# Figure out what actually popular hashtags they are using"
   ]
  },
  {
   "cell_type": "code",
   "execution_count": 181,
   "metadata": {},
   "outputs": [],
   "source": [
    "created_date = pd.to_datetime(df[\"account_creation_date\"])"
   ]
  },
  {
   "cell_type": "code",
   "execution_count": 182,
   "metadata": {},
   "outputs": [
    {
     "data": {
      "text/plain": [
       "0   2013-11-12\n",
       "1   2015-09-28\n",
       "2   2013-10-01\n",
       "3   2014-04-21\n",
       "4   2014-07-27\n",
       "Name: account_creation_date, dtype: datetime64[ns]"
      ]
     },
     "execution_count": 182,
     "metadata": {},
     "output_type": "execute_result"
    }
   ],
   "source": [
    "created_date.head()"
   ]
  },
  {
   "cell_type": "code",
   "execution_count": 183,
   "metadata": {},
   "outputs": [
    {
     "data": {
      "text/plain": [
       "<matplotlib.axes._subplots.AxesSubplot at 0x7fd5c0fa4518>"
      ]
     },
     "execution_count": 183,
     "metadata": {},
     "output_type": "execute_result"
    },
    {
     "data": {
      "image/png": "[encoded data removed]",
      "text/plain": [
       "<Figure size 432x288 with 1 Axes>"
      ]
     },
     "metadata": {
      "needs_background": "light"
     },
     "output_type": "display_data"
    }
   ],
   "source": [
    "created_date.hist(bins=100)"
   ]
  },
  {
   "cell_type": "code",
   "execution_count": null,
   "metadata": {},
   "outputs": [],
   "source": []
  },
  {
   "cell_type": "code",
   "execution_count": 184,
   "metadata": {
    "scrolled": true
   },
   "outputs": [],
   "source": [
    "tags = df[\"hashtags\"].dropna().tolist()\n",
    "\n",
    "import re\n",
    "\n",
    "flat_list = []\n",
    "for sublist in tags:\n",
    "    sublist = re.findall(r\"[\\w']+\", sublist)\n",
    "    if type(sublist) == list:\n",
    "        for tag in sublist:\n",
    "            assert type(tag) == str\n",
    "            flat_list.append(tag)\n",
    "    elif type(sublist) == str:\n",
    "        flat_list.append(sublist)\n",
    "\n",
    "hashtags = pd.Series([tag for tag in flat_list if not has_cyrillic(tag)])"
   ]
  },
  {
   "cell_type": "code",
   "execution_count": 227,
   "metadata": {},
   "outputs": [
    {
     "data": {
      "text/plain": [
       "<matplotlib.axes._subplots.AxesSubplot at 0x7fd5bee28eb8>"
      ]
     },
     "execution_count": 227,
     "metadata": {},
     "output_type": "execute_result"
    },
    {
     "data": {
      "image/png": "[encoded data removed]",
      "text/plain": [
       "<Figure size 1440x720 with 1 Axes>"
      ]
     },
     "metadata": {
      "needs_background": "light"
     },
     "output_type": "display_data"
    }
   ],
   "source": [
    "hashtags.value_counts()[:15].plot(kind=\"bar\", figsize=(20, 10))"
   ]
  },
  {
   "cell_type": "code",
   "execution_count": 216,
   "metadata": {},
   "outputs": [
    {
     "data": {
      "text/plain": [
       "breaking              23\n",
       "Chicago               21\n",
       "MAGA                  20\n",
       "love                  19\n",
       "TopNews               19\n",
       "tcot                  18\n",
       "entertainment         18\n",
       "NewYork               15\n",
       "BlackLivesMatter      15\n",
       "health                14\n",
       "Texas                 14\n",
       "USA                   14\n",
       "ColumbianChemicals    14\n",
       "PJNET                 13\n",
       "Trump                 13\n",
       "true                  13\n",
       "tech                  13\n",
       "Foke                  13\n",
       "money                 12\n",
       "quote                 12\n",
       "dtype: int64"
      ]
     },
     "execution_count": 216,
     "metadata": {},
     "output_type": "execute_result"
    }
   ],
   "source": [
    "hashtags.value_counts()[6:26]"
   ]
  },
  {
   "cell_type": "code",
   "execution_count": 217,
   "metadata": {
    "scrolled": false
   },
   "outputs": [],
   "source": [
    "# hashtags.value_counts(normalize=True).plot(kind=\"pie\", legend=True, figsize=(30, 20))"
   ]
  },
  {
   "cell_type": "code",
   "execution_count": null,
   "metadata": {},
   "outputs": [],
   "source": []
  }
 ],
 "metadata": {
  "kernelspec": {
   "display_name": "Python 3",
   "language": "python",
   "name": "python3"
  }
 },
 "nbformat": 4,
 "nbformat_minor": 2
}
